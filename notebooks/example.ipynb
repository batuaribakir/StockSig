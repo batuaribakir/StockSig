{
 "cells": [
  {
   "cell_type": "code",
   "execution_count": null,
   "id": "be571175",
   "metadata": {},
   "outputs": [],
   "source": [
    "import sys\n",
    "import os\n",
    "\n",
    "module_path = os.path.abspath(os.path.join('..'))\n",
    "if module_path not in sys.path:\n",
    "    sys.path.append(module_path)\n",
    "\n",
    "from interface.widgets import InteractiveAnalysis\n",
    "\n",
    "analyzer = InteractiveAnalysis()\n",
    "analyzer.display()"
   ]
  }
 ],
 "metadata": {
  "kernelspec": {
   "display_name": "stock-ai",
   "language": "python",
   "name": "python3"
  },
  "language_info": {
   "codemirror_mode": {
    "name": "ipython",
    "version": 3
   },
   "file_extension": ".py",
   "mimetype": "text/x-python",
   "name": "python",
   "nbconvert_exporter": "python",
   "pygments_lexer": "ipython3",
   "version": "3.10.11"
  }
 },
 "nbformat": 4,
 "nbformat_minor": 5
}
